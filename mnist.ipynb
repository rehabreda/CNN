{
  "nbformat": 4,
  "nbformat_minor": 0,
  "metadata": {
    "colab": {
      "name": "mnist.ipynb",
      "version": "0.3.2",
      "provenance": [],
      "collapsed_sections": [],
      "include_colab_link": true
    },
    "kernelspec": {
      "name": "python3",
      "display_name": "Python 3"
    }
  },
  "cells": [
    {
      "cell_type": "markdown",
      "metadata": {
        "id": "view-in-github",
        "colab_type": "text"
      },
      "source": [
        "<a href=\"https://colab.research.google.com/github/rehabreda/CNN/blob/master/mnist.ipynb\" target=\"_parent\"><img src=\"https://colab.research.google.com/assets/colab-badge.svg\" alt=\"Open In Colab\"/></a>"
      ]
    },
    {
      "metadata": {
        "id": "VL8a8Pt77ZgK",
        "colab_type": "code",
        "colab": {
          "base_uri": "https://localhost:8080/",
          "height": 35
        },
        "outputId": "324daeea-8bb3-4953-f583-e2d29fc80933"
      },
      "cell_type": "code",
      "source": [
        "import keras\n",
        "from keras.datasets import mnist\n",
        "from keras.models import Sequential\n",
        "from keras.layers import Dense , Conv2D , MaxPool2D , Flatten , Dropout\n",
        "from keras import backend as k\n"
      ],
      "execution_count": 1,
      "outputs": [
        {
          "output_type": "stream",
          "text": [
            "Using TensorFlow backend.\n"
          ],
          "name": "stderr"
        }
      ]
    },
    {
      "metadata": {
        "id": "wY-v4c948hQ_",
        "colab_type": "code",
        "colab": {}
      },
      "cell_type": "code",
      "source": [
        "batch_size=128\n",
        "epochs=12\n",
        "num_classes=10"
      ],
      "execution_count": 0,
      "outputs": []
    },
    {
      "metadata": {
        "id": "tSuwWky18sH_",
        "colab_type": "code",
        "colab": {}
      },
      "cell_type": "code",
      "source": [
        "img_rows ,img_cols=28,28"
      ],
      "execution_count": 0,
      "outputs": []
    },
    {
      "metadata": {
        "id": "Chrh0-KC83Ra",
        "colab_type": "code",
        "colab": {
          "base_uri": "https://localhost:8080/",
          "height": 54
        },
        "outputId": "c4ee0acc-22c6-4004-ffea-729952bf0bdd"
      },
      "cell_type": "code",
      "source": [
        "(x_train,y_train),(x_test,y_test)= mnist.load_data()"
      ],
      "execution_count": 4,
      "outputs": [
        {
          "output_type": "stream",
          "text": [
            "Downloading data from https://s3.amazonaws.com/img-datasets/mnist.npz\n",
            "11493376/11490434 [==============================] - 0s 0us/step\n"
          ],
          "name": "stdout"
        }
      ]
    },
    {
      "metadata": {
        "id": "hPWRlpAn9GXJ",
        "colab_type": "code",
        "colab": {}
      },
      "cell_type": "code",
      "source": [
        "if k.image_data_format()=='channels_first':\n",
        "  x_train=x_train.reshape(x_train.shape[0],1,img_rows,img_cols)\n",
        "  x_test=x_test.reshape(x_test.shape[0],1,img_rows,img_cols)\n",
        "  input_shape=(1,img_rows,img_cols)\n",
        "else:\n",
        "  x_train=x_train.reshape(x_train.shape[0],img_rows,img_cols,1)\n",
        "  x_test=x_test.reshape(x_test.shape[0],img_rows,img_cols,1)\n",
        "  input_shape=(img_rows,img_cols,1)\n",
        "  "
      ],
      "execution_count": 0,
      "outputs": []
    },
    {
      "metadata": {
        "id": "cevs5BAg-O1n",
        "colab_type": "code",
        "colab": {}
      },
      "cell_type": "code",
      "source": [
        "x_train=x_train.astype('float32')\n",
        "x_test=x_test.astype('float32')\n",
        "x_train/=255\n",
        "x_test/=255"
      ],
      "execution_count": 0,
      "outputs": []
    },
    {
      "metadata": {
        "id": "oEErGzKs-gkc",
        "colab_type": "code",
        "colab": {}
      },
      "cell_type": "code",
      "source": [
        "y_train= keras.utils.to_categorical(y_train,num_classes)\n",
        "y_test= keras.utils.to_categorical(y_test,num_classes)"
      ],
      "execution_count": 0,
      "outputs": []
    },
    {
      "metadata": {
        "id": "MxQ8ZNTt-odw",
        "colab_type": "code",
        "colab": {}
      },
      "cell_type": "code",
      "source": [
        "model= Sequential()\n",
        "model.add(Conv2D(32,kernel_size=(3,3), activation='relu', input_shape=input_shape))\n",
        "model.add(Conv2D(64,(3,3),activation='relu'))\n",
        "model.add(MaxPool2D( pool_size=(2,2)))\n",
        "model.add(Dropout(.25))\n",
        "model.add(Flatten())\n",
        "model.add(Dense(128, activation='relu'))\n",
        "model.add(Dropout(.5))\n",
        "model.add(Dense(10, activation='softmax') )\n"
      ],
      "execution_count": 0,
      "outputs": []
    },
    {
      "metadata": {
        "id": "y5zWf-CGBew4",
        "colab_type": "code",
        "colab": {
          "base_uri": "https://localhost:8080/",
          "height": 495
        },
        "outputId": "8f662f08-be05-477b-873b-ab2f58c203e4"
      },
      "cell_type": "code",
      "source": [
        "model.compile(loss= keras.losses.categorical_crossentropy, optimizer= keras.optimizers.Adadelta(),metrics=['accuracy'])\n",
        "model.fit(x_train,y_train,batch_size=batch_size,epochs=epochs,verbose=1,validation_data=(x_test,y_test))"
      ],
      "execution_count": 17,
      "outputs": [
        {
          "output_type": "stream",
          "text": [
            "Train on 60000 samples, validate on 10000 samples\n",
            "Epoch 1/12\n",
            "60000/60000 [==============================] - 204s 3ms/step - loss: 2.3017 - acc: 0.1115 - val_loss: 2.3011 - val_acc: 0.1135\n",
            "Epoch 2/12\n",
            "60000/60000 [==============================] - 195s 3ms/step - loss: 2.3015 - acc: 0.1124 - val_loss: 2.3010 - val_acc: 0.1135\n",
            "Epoch 3/12\n",
            "60000/60000 [==============================] - 198s 3ms/step - loss: 2.3014 - acc: 0.1124 - val_loss: 2.3011 - val_acc: 0.1135\n",
            "Epoch 4/12\n",
            "60000/60000 [==============================] - 200s 3ms/step - loss: 2.3013 - acc: 0.1123 - val_loss: 2.3011 - val_acc: 0.1135\n",
            "Epoch 5/12\n",
            "60000/60000 [==============================] - 199s 3ms/step - loss: 2.3013 - acc: 0.1124 - val_loss: 2.3011 - val_acc: 0.1135\n",
            "Epoch 6/12\n",
            "60000/60000 [==============================] - 203s 3ms/step - loss: 2.3013 - acc: 0.1124 - val_loss: 2.3011 - val_acc: 0.1135\n",
            "Epoch 7/12\n",
            "60000/60000 [==============================] - 201s 3ms/step - loss: 2.3013 - acc: 0.1124 - val_loss: 2.3011 - val_acc: 0.1135\n",
            "Epoch 8/12\n",
            "60000/60000 [==============================] - 199s 3ms/step - loss: 2.3012 - acc: 0.1124 - val_loss: 2.3011 - val_acc: 0.1135\n",
            "Epoch 9/12\n",
            "60000/60000 [==============================] - 200s 3ms/step - loss: 2.3013 - acc: 0.1124 - val_loss: 2.3010 - val_acc: 0.1135\n",
            "Epoch 10/12\n",
            "60000/60000 [==============================] - 200s 3ms/step - loss: 2.3013 - acc: 0.1124 - val_loss: 2.3011 - val_acc: 0.1135\n",
            "Epoch 11/12\n",
            "60000/60000 [==============================] - 199s 3ms/step - loss: 2.3013 - acc: 0.1124 - val_loss: 2.3010 - val_acc: 0.1135\n",
            "Epoch 12/12\n",
            "60000/60000 [==============================] - 200s 3ms/step - loss: 2.3013 - acc: 0.1124 - val_loss: 2.3011 - val_acc: 0.1135\n"
          ],
          "name": "stdout"
        },
        {
          "output_type": "execute_result",
          "data": {
            "text/plain": [
              "<keras.callbacks.History at 0x7fdc0d0a7748>"
            ]
          },
          "metadata": {
            "tags": []
          },
          "execution_count": 17
        }
      ]
    },
    {
      "metadata": {
        "id": "Hhhqq88zDz0q",
        "colab_type": "code",
        "colab": {}
      },
      "cell_type": "code",
      "source": [
        ""
      ],
      "execution_count": 0,
      "outputs": []
    },
    {
      "metadata": {
        "id": "25qfG1r5LEZW",
        "colab_type": "code",
        "colab": {
          "base_uri": "https://localhost:8080/",
          "height": 35
        },
        "outputId": "4e9b81ee-d1d0-4e91-d933-29e5ec7ef58a"
      },
      "cell_type": "code",
      "source": [
        "score= model.evaluate(x_test,y_test)"
      ],
      "execution_count": 18,
      "outputs": [
        {
          "output_type": "stream",
          "text": [
            "10000/10000 [==============================] - 9s 857us/step\n"
          ],
          "name": "stdout"
        }
      ]
    },
    {
      "metadata": {
        "id": "yvTBwLP5YSV9",
        "colab_type": "code",
        "colab": {
          "base_uri": "https://localhost:8080/",
          "height": 54
        },
        "outputId": "a19a6674-918f-453b-d685-dcd834ef18b7"
      },
      "cell_type": "code",
      "source": [
        "print('loss : ',score[0])\n",
        "print('accuracy : ',score[1])"
      ],
      "execution_count": 19,
      "outputs": [
        {
          "output_type": "stream",
          "text": [
            "loss :  2.3010991958618163\n",
            "accuracy :  0.1135\n"
          ],
          "name": "stdout"
        }
      ]
    },
    {
      "metadata": {
        "id": "nwBdyTTWYd9J",
        "colab_type": "code",
        "colab": {}
      },
      "cell_type": "code",
      "source": [
        ""
      ],
      "execution_count": 0,
      "outputs": []
    }
  ]
}